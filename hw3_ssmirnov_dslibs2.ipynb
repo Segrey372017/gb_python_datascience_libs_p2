{
  "nbformat": 4,
  "nbformat_minor": 0,
  "metadata": {
    "colab": {
      "name": "hw3_ssmirnov_dslibs2.ipynb",
      "provenance": [],
      "collapsed_sections": [],
      "toc_visible": true,
      "authorship_tag": "ABX9TyOgOXJ3vweE3wSRQnbZEcFq",
      "include_colab_link": true
    },
    "kernelspec": {
      "name": "python3",
      "display_name": "Python 3"
    },
    "language_info": {
      "name": "python"
    }
  },
  "cells": [
    {
      "cell_type": "markdown",
      "metadata": {
        "id": "view-in-github",
        "colab_type": "text"
      },
      "source": [
        "<a href=\"https://colab.research.google.com/github/Segrey372017/gb_python_datascience_libs_p2/blob/main/hw3_ssmirnov_dslibs2.ipynb\" target=\"_parent\"><img src=\"https://colab.research.google.com/assets/colab-badge.svg\" alt=\"Open In Colab\"/></a>"
      ]
    },
    {
      "cell_type": "code",
      "metadata": {
        "id": "YHgcnVd6RI6E"
      },
      "source": [
        ""
      ],
      "execution_count": null,
      "outputs": []
    },
    {
      "cell_type": "markdown",
      "metadata": {
        "id": "sZJjBFUYRUOV"
      },
      "source": [
        "# Домашняя работа к Уроку 3. Построение модели классификации"
      ]
    },
    {
      "cell_type": "markdown",
      "metadata": {
        "id": "KorwC5R4RhlS"
      },
      "source": [
        "### Задание 1"
      ]
    },
    {
      "cell_type": "markdown",
      "metadata": {
        "id": "7JApvVhBRnMe"
      },
      "source": [
        "Для чего и в каких случаях полезны различные варианты усреднения для метрик качества классификации: micro, macro, weighted?"
      ]
    },
    {
      "cell_type": "markdown",
      "metadata": {
        "id": "0l1Ve1NSRv_I"
      },
      "source": [
        "Данные метрики нужны чтобы оценить модель классификации с разных сторон: как модель различает конкретные классы, ложно-положительные и ложноотрицательные результаты, как модель вцелом способна различать классы, оценивать эффективность определения меньшего класса при дисбаланске классов.<br>\n",
        "_micro_ - метрика для первичной оценки модели, доля истиных оценок;<br>\n",
        "_macro_ - оценивает способность модели эффективно различать контректные классы (метрика дается по каждому классу);<br>\n",
        "_weighted_ - позволяет настроит оценку эффективности модели при дисбалансе классов, смещая веса за распознавание редких или близких классов (спа-фильтры, распознавание цифр 3-5, 1-7 и т.п.)"
      ]
    },
    {
      "cell_type": "markdown",
      "metadata": {
        "id": "23gxQ63ATuSu"
      },
      "source": [
        "### Задание 2"
      ]
    },
    {
      "cell_type": "markdown",
      "metadata": {
        "id": "Dpc9y-hXUA8C"
      },
      "source": [
        "В чём разница между моделями xgboost, lightgbm и catboost или какие их основные особенности?"
      ]
    },
    {
      "cell_type": "markdown",
      "metadata": {
        "id": "d5VgSjmsUKAm"
      },
      "source": [
        "Поскольку это реализации градиентного бустинга от разных разработчиков, которые делали свою реализацию градиентного бустинга для своих специфических задач.<br>\n",
        "_xgboost_ - оптимизировался для быстродействия по-сравнению с реализацией например в scikit-learn; <br>\n",
        "_lightgbm_ - еще более оптимизирован на легковесность и быстродействие. Обучается на малых выборках с наибольшим разнообразием признаков. Деревья ветвятся от листьев с худьшим результатом; <br>\n",
        "_catboost_ - разработан для работы с категориальными данным, так как использовался для разработки поисковых систем и работы с естественными языками. Для быстрой проверки моделей и гипотез, позвляет работать с необработанными наборами данных, имеются встроенные механизмы борьбы с переобучением."
      ]
    },
    {
      "cell_type": "markdown",
      "metadata": {
        "id": "1mxdD875WYg7"
      },
      "source": [
        ""
      ]
    }
  ]
}