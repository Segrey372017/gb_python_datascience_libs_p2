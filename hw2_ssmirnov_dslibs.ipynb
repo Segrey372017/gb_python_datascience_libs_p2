{
  "nbformat": 4,
  "nbformat_minor": 0,
  "metadata": {
    "colab": {
      "name": "hw2_ssmirnov_dslibs.ipynb",
      "provenance": [],
      "collapsed_sections": [],
      "toc_visible": true,
      "authorship_tag": "ABX9TyP/EXTbI9155UXPuiYZtIZe",
      "include_colab_link": true
    },
    "kernelspec": {
      "name": "python3",
      "display_name": "Python 3"
    },
    "language_info": {
      "name": "python"
    }
  },
  "cells": [
    {
      "cell_type": "markdown",
      "metadata": {
        "id": "view-in-github",
        "colab_type": "text"
      },
      "source": [
        "<a href=\"https://colab.research.google.com/github/Segrey372017/gb_python_datascience_libs_p2/blob/main/hw2_ssmirnov_dslibs.ipynb\" target=\"_parent\"><img src=\"https://colab.research.google.com/assets/colab-badge.svg\" alt=\"Open In Colab\"/></a>"
      ]
    },
    {
      "cell_type": "code",
      "metadata": {
        "id": "nO_Z_-Hhvv7M"
      },
      "source": [
        "import numpy as np\n",
        "import matplotlib.pyplot as plt\n",
        "import seaborn as sns"
      ],
      "execution_count": 1,
      "outputs": []
    },
    {
      "cell_type": "markdown",
      "metadata": {
        "id": "YXOKGOX9v73b"
      },
      "source": [
        "# Домашняя работа к Уроку2  Анализ данных и проверка статистических гипотез"
      ]
    },
    {
      "cell_type": "markdown",
      "metadata": {
        "id": "t_3EDI2ywHyX"
      },
      "source": [
        "### Задание 1"
      ]
    },
    {
      "cell_type": "markdown",
      "metadata": {
        "id": "0UcNCQGNwFJL"
      },
      "source": [
        "В чём различие между зависимыми и независимыми выборками?"
      ]
    },
    {
      "cell_type": "markdown",
      "metadata": {
        "id": "vnyc5qQDwbiP"
      },
      "source": [
        "Независимость выборок один из основных критериев качественного статистического исследования, позволяющий сделать достоверные выводы об исследуемой генеральной совокупности. <br>\n",
        "При обеспечении независимости выборок, какая-либо из выборок не оказывает влияния на остальные выборки, тоесть ключевые параметры выборок: характер распределения наблюдаемой величины, среднее и дисперсия не подвержены изменению из-за экземпляров, попавших в выборки. <br> \n",
        "Пример независимых выборок: по конвейеру идут детали - контролер каждый час снимает 5 деталей для проведения испытаний; из перетасованной колоды достали пять раз по три карты. <br>\n",
        "Пример зависимых выборок: Группа студентов принмала участие в социологическом опросе, через несколько дней часть студентов из этой группы приняли участие в аналогичном опросе. В козине лежат 20 зеленых яблок и 10 красных, из корзины берут 5 яблок, фиксируют их цвета и возвращают в корзину, опыт повторяется несколько раз."
      ]
    },
    {
      "cell_type": "code",
      "metadata": {
        "colab": {
          "base_uri": "https://localhost:8080/"
        },
        "id": "zOx7jiKD8o1J",
        "outputId": "27f6be41-87c2-475f-c96d-705a753dcd6f"
      },
      "source": [
        "# Примеры выборок\n",
        "rnd = np.random.RandomState(42) # вопспроизводимый генератор случайных чисел\n",
        "general = np.array(rnd.randint(1,10, size = 300,)) # генеральная совокупность\n",
        "general"
      ],
      "execution_count": 2,
      "outputs": [
        {
          "output_type": "execute_result",
          "data": {
            "text/plain": [
              "array([7, 4, 8, 5, 7, 3, 7, 8, 5, 4, 8, 8, 3, 6, 5, 2, 8, 6, 2, 5, 1, 6,\n",
              "       9, 1, 3, 7, 4, 9, 3, 5, 3, 7, 5, 9, 7, 2, 4, 9, 2, 9, 5, 2, 4, 7,\n",
              "       8, 3, 1, 4, 2, 8, 4, 2, 6, 6, 4, 6, 2, 2, 4, 8, 7, 9, 8, 5, 2, 5,\n",
              "       8, 9, 9, 1, 9, 7, 9, 8, 1, 8, 8, 3, 1, 8, 3, 3, 1, 5, 7, 9, 7, 9,\n",
              "       8, 2, 1, 7, 7, 8, 5, 3, 8, 6, 3, 1, 3, 5, 3, 1, 5, 7, 7, 9, 3, 7,\n",
              "       1, 4, 4, 5, 7, 7, 4, 7, 3, 6, 2, 9, 5, 6, 4, 7, 9, 7, 1, 1, 9, 9,\n",
              "       4, 9, 3, 7, 6, 8, 9, 5, 1, 3, 8, 6, 8, 9, 4, 1, 1, 4, 7, 2, 3, 1,\n",
              "       5, 1, 8, 1, 1, 2, 2, 6, 7, 5, 1, 1, 3, 2, 5, 6, 7, 4, 7, 8, 1, 6,\n",
              "       8, 5, 4, 2, 6, 6, 1, 9, 6, 3, 4, 4, 3, 3, 3, 4, 7, 4, 9, 1, 8, 7,\n",
              "       2, 8, 1, 9, 9, 2, 7, 3, 7, 9, 4, 1, 2, 1, 5, 5, 7, 9, 9, 3, 3, 3,\n",
              "       4, 8, 6, 8, 1, 8, 4, 1, 8, 4, 6, 8, 4, 3, 9, 3, 9, 2, 2, 2, 6, 3,\n",
              "       9, 4, 1, 4, 1, 5, 4, 8, 8, 7, 3, 1, 1, 3, 6, 7, 6, 6, 6, 3, 6, 8,\n",
              "       2, 5, 1, 1, 5, 3, 4, 3, 1, 1, 5, 6, 3, 9, 5, 8, 1, 5, 3, 1, 4, 5,\n",
              "       7, 1, 3, 2, 9, 6, 3, 8, 8, 2, 6, 7, 2, 2])"
            ]
          },
          "metadata": {},
          "execution_count": 2
        }
      ]
    },
    {
      "cell_type": "code",
      "metadata": {
        "colab": {
          "base_uri": "https://localhost:8080/"
        },
        "id": "67p9vRWt9WBU",
        "outputId": "9c1bc32b-1e1b-4b9a-e71d-460512867585"
      },
      "source": [
        "# среднее и стандарное отклонение генеральной совокупности\n",
        "print('Среднее ', general.mean())\n",
        "print('Стандартное отклонение ', general.std(ddof = 0))"
      ],
      "execution_count": 3,
      "outputs": [
        {
          "output_type": "stream",
          "name": "stdout",
          "text": [
            "Среднее  4.92\n",
            "Стандартное отклонение  2.644541548170495\n"
          ]
        }
      ]
    },
    {
      "cell_type": "code",
      "metadata": {
        "colab": {
          "base_uri": "https://localhost:8080/",
          "height": 282
        },
        "id": "tJ07cEgVo7Wb",
        "outputId": "86a45f9a-3b24-438c-b1dc-e05cf7279410"
      },
      "source": [
        "# Поскольу случайная генеральная совокупность задана равномерным распределением вероятность появления чисел в выборке примерно одинакова \n",
        "# Выведем гистограмму генеральной совокупности\n",
        "sns.histplot(general, kde = True, bins = 9)"
      ],
      "execution_count": 5,
      "outputs": [
        {
          "output_type": "execute_result",
          "data": {
            "text/plain": [
              "<matplotlib.axes._subplots.AxesSubplot at 0x7f9fad7a5f10>"
            ]
          },
          "metadata": {},
          "execution_count": 5
        },
        {
          "output_type": "display_data",
          "data": {
            "image/png": "[encoded data removed]",
            "text/plain": [
              "<Figure size 432x288 with 1 Axes>"
            ]
          },
          "metadata": {
            "needs_background": "light"
          }
        }
      ]
    },
    {
      "cell_type": "code",
      "metadata": {
        "colab": {
          "base_uri": "https://localhost:8080/"
        },
        "id": "BYu_6zPK-d7z",
        "outputId": "9ee135fd-d9b0-4d7e-9225-2a2f6913df05"
      },
      "source": [
        "# независимые выборки\n",
        "ind_choice = rnd.choice(general, size = (40,7), replace = False) # берем 40 выборок по 7 значений ранее отобранные элементы в выборку не попадут\n",
        "ind_choice.mean(axis = 1).mean() # средние по столбцам и среднее выборочное"
      ],
      "execution_count": 10,
      "outputs": [
        {
          "output_type": "execute_result",
          "data": {
            "text/plain": [
              "4.914285714285715"
            ]
          },
          "metadata": {},
          "execution_count": 10
        }
      ]
    },
    {
      "cell_type": "code",
      "metadata": {
        "colab": {
          "base_uri": "https://localhost:8080/"
        },
        "id": "K4j2Uc90AXM_",
        "outputId": "62b2716e-5407-4066-b613-b50e91515d81"
      },
      "source": [
        "ind_choice.std(axis = 1).std() # дисперсия по столбцам выборочная дисперсия"
      ],
      "execution_count": 11,
      "outputs": [
        {
          "output_type": "execute_result",
          "data": {
            "text/plain": [
              "0.48518196206219827"
            ]
          },
          "metadata": {},
          "execution_count": 11
        }
      ]
    },
    {
      "cell_type": "code",
      "metadata": {
        "colab": {
          "base_uri": "https://localhost:8080/",
          "height": 282
        },
        "id": "ABcMCct3p_gD",
        "outputId": "834f37f8-6883-44c7-f493-7affad3c6700"
      },
      "source": [
        "# В соответсвии со следствием Центральной предельной теоремы выборочное среднее будет стремится к средней генеральной совокумности\n",
        "# При этом распределение выборочных средних должно стремится к нормальному распределению (колоколообразная кривая), дисперсия будет стремится к дисперсии генеральной сопокупности\n",
        "# деленной на квадратный корень из размера выборки\n",
        "sns.histplot(ind_choice.mean(axis = 1), kde = True, bins = 9)"
      ],
      "execution_count": 15,
      "outputs": [
        {
          "output_type": "execute_result",
          "data": {
            "text/plain": [
              "<matplotlib.axes._subplots.AxesSubplot at 0x7f9fad622fd0>"
            ]
          },
          "metadata": {},
          "execution_count": 15
        },
        {
          "output_type": "display_data",
          "data": {
            "image/png": "[encoded data removed]",
            "text/plain": [
              "<Figure size 432x288 with 1 Axes>"
            ]
          },
          "metadata": {
            "needs_background": "light"
          }
        }
      ]
    },
    {
      "cell_type": "code",
      "metadata": {
        "colab": {
          "base_uri": "https://localhost:8080/"
        },
        "id": "OxR1xBkEBKos",
        "outputId": "0e51abd7-6e86-4788-b283-5b9427cc2fba"
      },
      "source": [
        "# зависимые выборки\n",
        "dpn_choice = rnd.choice(general, size = (40,7), replace = True ) # 40 выборок по 7, но один и тотже элемент может попасть в несколько выборок наравне с другими\n",
        "dpn_choice.mean(axis = 1).mean() # средние по столбцам среднее выборочное"
      ],
      "execution_count": 13,
      "outputs": [
        {
          "output_type": "execute_result",
          "data": {
            "text/plain": [
              "5.107142857142857"
            ]
          },
          "metadata": {},
          "execution_count": 13
        }
      ]
    },
    {
      "cell_type": "code",
      "metadata": {
        "colab": {
          "base_uri": "https://localhost:8080/"
        },
        "id": "MKhwzkAWCXIv",
        "outputId": "2d50c8d0-0cb1-48c2-a52b-7f98a34353b1"
      },
      "source": [
        "dpn_choice.std(axis = 1).std() # дисперсия по столбцам выборочная дисперсия"
      ],
      "execution_count": 17,
      "outputs": [
        {
          "output_type": "execute_result",
          "data": {
            "text/plain": [
              "0.5723965103857005"
            ]
          },
          "metadata": {},
          "execution_count": 17
        }
      ]
    },
    {
      "cell_type": "code",
      "metadata": {
        "colab": {
          "base_uri": "https://localhost:8080/",
          "height": 282
        },
        "id": "szsiKyS1KXKj",
        "outputId": "e05be800-292b-47ae-a9a5-20b6b3988218"
      },
      "source": [
        "# в этом случае выборочное среднее оказалось несколько искаженным за счет того что одни и теже элементы участвовали в разных выборках\n",
        "sns.histplot(dpn_choice.mean(axis = 1), kde = True, bins = 9)"
      ],
      "execution_count": 18,
      "outputs": [
        {
          "output_type": "execute_result",
          "data": {
            "text/plain": [
              "<matplotlib.axes._subplots.AxesSubplot at 0x7f9fad5547d0>"
            ]
          },
          "metadata": {},
          "execution_count": 18
        },
        {
          "output_type": "display_data",
          "data": {
            "image/png": "[encoded data removed]",
            "text/plain": [
              "<Figure size 432x288 with 1 Axes>"
            ]
          },
          "metadata": {
            "needs_background": "light"
          }
        }
      ]
    },
    {
      "cell_type": "markdown",
      "metadata": {
        "id": "XusZHEV3s0t5"
      },
      "source": [
        "Распределение с зависимыми выборками получилось искаженным (\"тяжелый\" левый хвост), вероятно из-за того, что ввыборки чаще попали значения меньше 5.\n",
        "Поскольку распределение зависимых выборок будет отличатся от нормального, для статистического анализа не будет доступен надежно проработанный инструментарий, разработанный для нормально распределенных данных."
      ]
    },
    {
      "cell_type": "markdown",
      "metadata": {
        "id": "p7JXGrpMumuJ"
      },
      "source": [
        "### Задание 2"
      ]
    },
    {
      "cell_type": "markdown",
      "metadata": {
        "id": "b-CTyBsQusED"
      },
      "source": [
        "Когда применяются параметрические статистические критерии, а когда — их непараметрические аналоги"
      ]
    },
    {
      "cell_type": "markdown",
      "metadata": {
        "id": "RknpFLqWvUTL"
      },
      "source": [
        "Параметрические статистические критерии применяются для нормально распределенных данных, например метрики: доверительные интервалы, критерий Стьюдента для сравнения выборочных средних, критерий Хи-квадрат.<br>\n",
        "Соответственно если исследуемая величина или набор выборок не следуют закону нормального распределения, то применяются непараметрические критерии, например распределения Манна-Уитни для проверки средних."
      ]
    },
    {
      "cell_type": "code",
      "metadata": {
        "id": "yv8IsrefwoKC"
      },
      "source": [
        "# проверим распределения полученные на предыдущих выборках на нормальность\n",
        "from scipy.stats import shapiro"
      ],
      "execution_count": 19,
      "outputs": []
    },
    {
      "cell_type": "code",
      "metadata": {
        "colab": {
          "base_uri": "https://localhost:8080/"
        },
        "id": "GYbiCWyKw-Zv",
        "outputId": "0d805c88-8838-404a-b3b1-45d5305ed5c2"
      },
      "source": [
        "# распределение независымых выборок\n",
        "w, p_val = shapiro(ind_choice.mean(axis = 1))\n",
        "p_val"
      ],
      "execution_count": 20,
      "outputs": [
        {
          "output_type": "execute_result",
          "data": {
            "text/plain": [
              "0.10122736543416977"
            ]
          },
          "metadata": {},
          "execution_count": 20
        }
      ]
    },
    {
      "cell_type": "code",
      "metadata": {
        "colab": {
          "base_uri": "https://localhost:8080/"
        },
        "id": "xwAbnP_exbfc",
        "outputId": "a70acb50-8ac9-4feb-8869-600ec3ba6bbf"
      },
      "source": [
        "# p-value выше 0,05, следовательно распределение незавимых выборок можно отнести к нормальному\n",
        "\n",
        "# оценим распределение средних зависимых выборок\n",
        "w, p_val2 = shapiro(dpn_choice.mean(axis = 1))\n",
        "p_val2"
      ],
      "execution_count": 21,
      "outputs": [
        {
          "output_type": "execute_result",
          "data": {
            "text/plain": [
              "0.018490014597773552"
            ]
          },
          "metadata": {},
          "execution_count": 21
        }
      ]
    },
    {
      "cell_type": "code",
      "metadata": {
        "id": "V1rmM4XByT02"
      },
      "source": [
        "# распределение зависимых выборок не прошло тест на нормальность p-vale составило 0,02 что меньше порога 0,05 Хотя предыдущее распределение выглядит несовсем идеально для нормального"
      ],
      "execution_count": null,
      "outputs": []
    }
  ]
}